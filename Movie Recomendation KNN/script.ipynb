{
  "cells": [
    {
      "cell_type": "markdown",
      "source": [
        "#**Fase 6**: Sistema de recomendación de películas\n",
        "\n",
        "---\n",
        "\n"
      ],
      "metadata": {
        "id": "EmH81Rbexdvb"
      }
    },
    {
      "cell_type": "markdown",
      "source": [
        "Maripaz Bodegas Herrera, A01029911\n",
        "\n",
        "\n",
        "\n",
        "Francisco Martínez Gallardo, A01782250\n",
        "\n",
        "\n"
      ],
      "metadata": {
        "id": "0CzLD8S1vHJr"
      }
    },
    {
      "cell_type": "code",
      "execution_count": null,
      "metadata": {
        "id": "B3a2FrlAeyXV"
      },
      "outputs": [],
      "source": [
        "from sklearn.neighbors import KNeighborsRegressor\n",
        "from sklearn.neighbors import KNeighborsClassifier\n",
        "from sklearn.model_selection import train_test_split\n",
        "import numpy as np\n",
        "import pandas as pd\n",
        "Tabla= pd.read_csv('Ciencia Ficción.csv', index_col=0)\n",
        "Tabla = Tabla.iloc[:177, [0,1,2,3,4,5]]"
      ]
    },
    {
      "cell_type": "markdown",
      "metadata": {
        "id": "Zj_0_2sZhIdL"
      },
      "source": [
        "**Función 1:** Obtención de información de los ratings que el usuario le da a las películas vistas."
      ]
    },
    {
      "cell_type": "code",
      "execution_count": null,
      "metadata": {
        "id": "EHUqLSNPhMNS"
      },
      "outputs": [],
      "source": [
        "def getRatings():\n",
        "  names = list(Tabla)\n",
        "  print(\"Bienvenidos\")\n",
        "  print(\"Ingrese los ratings de las siguientes películas\")\n",
        "  print(\"Instrucciones: Favor de ingresar los ratings de las películas vistas de 1 a 5,en caso de no haber visto alguna favor de ingresar 0.\")\n",
        "  ratings = [0,0,0,0,0,0]\n",
        "  for i in range(6):\n",
        "    print(\"Ingrese la calificacion de \" + names[i] + \" :\")\n",
        "    ratings[i] = float(input())\n",
        "  return ratings\n"
      ]
    },
    {
      "cell_type": "markdown",
      "source": [
        "**Función 2:** Regresa una lista de los ratings de las películas vistas."
      ],
      "metadata": {
        "id": "V6YMo3-yyQ-Q"
      }
    },
    {
      "cell_type": "code",
      "execution_count": null,
      "metadata": {
        "id": "V8iI623WfgtU"
      },
      "outputs": [],
      "source": [
        "def getViews(lista):\n",
        "  l = []\n",
        "  for i in range(len(lista)):\n",
        "    if lista[i] != 0:\n",
        "      l += [lista[i]]\n",
        "  return l"
      ]
    },
    {
      "cell_type": "markdown",
      "source": [
        "**Función 3:** Regresa una lista con los índices de las películas no vistas."
      ],
      "metadata": {
        "id": "uvRpM0vtydFC"
      }
    },
    {
      "cell_type": "code",
      "execution_count": null,
      "metadata": {
        "id": "dKj3NRu7kzQ5"
      },
      "outputs": [],
      "source": [
        "def getINV(lista):\n",
        "  l2 = []\n",
        "  for i in range(len(lista)):\n",
        "    if lista[i] == 0:\n",
        "      l2 += [i]\n",
        "  return l2"
      ]
    },
    {
      "cell_type": "markdown",
      "source": [
        "**Función 4:** Regresa una lista con los índices de las películas vistas."
      ],
      "metadata": {
        "id": "D49SZ467yqAZ"
      }
    },
    {
      "cell_type": "code",
      "execution_count": null,
      "metadata": {
        "id": "IFQKUGbMlUzv"
      },
      "outputs": [],
      "source": [
        "def getIV(lista):\n",
        "  l2 = []\n",
        "  for i in range(len(lista)):\n",
        "    if lista[i] != 0:\n",
        "      l2 += [i]\n",
        "  return l2"
      ]
    },
    {
      "cell_type": "markdown",
      "source": [
        "**Función 5:** Regresa un DataFrame nuevo con los ratings de las películas vistas."
      ],
      "metadata": {
        "id": "kgLNhV2lyzNc"
      }
    },
    {
      "cell_type": "code",
      "execution_count": null,
      "metadata": {
        "id": "ar7xUjoekLQO"
      },
      "outputs": [],
      "source": [
        "def getNewBase(df,l):\n",
        "  \n",
        "  df = df.iloc[:, l]\n",
        "  return df\n"
      ]
    },
    {
      "cell_type": "markdown",
      "source": [
        "**Función 6:** Implementa un sistema de recomendación utilizando KNeighborsRegressor. "
      ],
      "metadata": {
        "id": "UAOnlshtzQeP"
      }
    },
    {
      "cell_type": "code",
      "execution_count": null,
      "metadata": {
        "id": "iXomuxqghFVL"
      },
      "outputs": [],
      "source": [
        "def Recomendar(k, df):\n",
        "  modelo_knn = KNeighborsRegressor(n_neighbors = k)\n",
        "\n",
        "  user_ratings = getRatings()\n",
        "  user_views = getViews(user_ratings)\n",
        "  user_INV = getINV(user_ratings)\n",
        "  user_IV = getIV(user_ratings)\n",
        "\n",
        "  x = getNewBase(df, user_IV)\n",
        "  y = getNewBase(df, user_INV)\n",
        "\n",
        "  modelo_knn.fit(x,y)\n",
        "  result = modelo_knn.predict([user_views])\n",
        "  print_moviename(user_INV, result)\n",
        "  \n",
        "  return result"
      ]
    },
    {
      "cell_type": "markdown",
      "source": [
        "**Función 7:** Imprimir nombre de pelicula recomendada"
      ],
      "metadata": {
        "id": "btfVmaVRx9LT"
      }
    },
    {
      "cell_type": "code",
      "source": [
        "def print_moviename(movie_index, prediction):\n",
        "  names = list(Tabla)\n",
        "  max = 0\n",
        "  max_indexes = []\n",
        "  for i in range(len(prediction[0])):\n",
        "    if prediction[0][i] > max:\n",
        "      max = prediction[0][i]\n",
        "      max_indexes =[]\n",
        "      max_indexes += [movie_index[i]]\n",
        "    elif prediction[0][i] == max:\n",
        "      max_indexes += [movie_index[i]]\n",
        "  print(\"Pelicula(s) recomendada(s): \")\n",
        "  for i in range(len(max_indexes)):\n",
        "    print(names[max_indexes[i]])\n",
        "\n",
        "  return\n",
        "\n",
        "\n",
        "  "
      ],
      "metadata": {
        "id": "wgJSLhlxtpGb"
      },
      "execution_count": null,
      "outputs": []
    },
    {
      "cell_type": "markdown",
      "source": [],
      "metadata": {
        "id": "XB34rhhMtXPL"
      }
    },
    {
      "cell_type": "markdown",
      "metadata": {
        "id": "hLDLf4rmhVXj"
      },
      "source": [
        "#**Sistema de recomendaciones**\n"
      ]
    },
    {
      "cell_type": "code",
      "execution_count": null,
      "metadata": {
        "id": "5_sxWpU0qWGQ",
        "colab": {
          "base_uri": "https://localhost:8080/"
        },
        "outputId": "b88498f3-35b9-4ea0-b285-8098ae49c9e8"
      },
      "outputs": [
        {
          "output_type": "stream",
          "name": "stdout",
          "text": [
            "Ingresa el numero de vecinos: 13\n",
            "Bienvenidos\n",
            "Ingrese los ratings de las siguientes películas\n",
            "Instrucciones: Favor de ingresar los ratings de las películas vistas de 1 a 5,en caso de no haber visto alguna favor de ingresar 0.\n",
            "Ingrese la calificacion de Exmachina :\n",
            "4\n",
            "Ingrese la calificacion de Yo, Robot :\n",
            "4.5\n",
            "Ingrese la calificacion de AI :\n",
            "3\n",
            "Ingrese la calificacion de 2001 :\n",
            "0\n",
            "Ingrese la calificacion de Matrix :\n",
            "0\n",
            "0\n",
            "Ingrese la calificacion de Blade Runner :\n",
            "Pelicula(s) recomendada(s): \n",
            "Matrix\n",
            "\n",
            "Prediccion de Califiaciones: \n",
            "[[3.57692308 4.57692308 4.19230769]]\n"
          ]
        },
        {
          "output_type": "stream",
          "name": "stderr",
          "text": [
            "/usr/local/lib/python3.7/dist-packages/sklearn/base.py:451: UserWarning: X does not have valid feature names, but KNeighborsRegressor was fitted with feature names\n",
            "  \"X does not have valid feature names, but\"\n"
          ]
        }
      ],
      "source": [
        "\n",
        "#Usar funciones para el input del KNN\n",
        "vecinos = int(input(\"Ingresa el numero de vecinos: \"))\n",
        "\n",
        "r = Recomendar(vecinos, Tabla)\n",
        "\n",
        "print(\"\\nPrediccion de Califiaciones: \")\n",
        "print(r)\n",
        "\n"
      ]
    },
    {
      "cell_type": "code",
      "source": [],
      "metadata": {
        "id": "Qz-wr4eBwnFb"
      },
      "execution_count": null,
      "outputs": []
    }
  ],
  "metadata": {
    "colab": {
      "collapsed_sections": [],
      "provenance": []
    },
    "kernelspec": {
      "display_name": "Python 3",
      "name": "python3"
    },
    "language_info": {
      "name": "python"
    }
  },
  "nbformat": 4,
  "nbformat_minor": 0
}